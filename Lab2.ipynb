{
 "cells": [
  {
   "cell_type": "markdown",
   "metadata": {},
   "source": [
    "<b> DASHBOARDS_LAB2 </b>"
   ]
  },
  {
   "cell_type": "code",
   "execution_count": null,
   "metadata": {
    "collapsed": true
   },
   "outputs": [],
   "source": []
  },
  {
   "cell_type": "code",
   "execution_count": 2,
   "metadata": {
    "collapsed": true
   },
   "outputs": [],
   "source": [
    "import pandas as pd\n",
    "\n",
    "import csv"
   ]
  },
  {
   "cell_type": "code",
   "execution_count": 6,
   "metadata": {
    "collapsed": true
   },
   "outputs": [],
   "source": [
    "#skipping first empty row\n",
    "with open(\"Original Data Breaches (public) - 2017.csv\",'r') as f, open(\"db_data_2017.csv\",'w') as f1:\n",
    "    next(f) # skip header line\n",
    "    for line in f:\n",
    "        f1.write(line)"
   ]
  },
  {
   "cell_type": "code",
   "execution_count": 7,
   "metadata": {
    "collapsed": true
   },
   "outputs": [],
   "source": [
    "#coverting a csv file into a dataframe\n",
    "db_data_2017 = pd.read_csv('db_data_2017.csv')"
   ]
  },
  {
   "cell_type": "code",
   "execution_count": 8,
   "metadata": {
    "collapsed": true
   },
   "outputs": [],
   "source": [
    "#skipping row with information about columns\n",
    "db_data_2017 = db_data_2017.dropna(subset=['Entity'], how='any')"
   ]
  },
  {
   "cell_type": "code",
   "execution_count": 9,
   "metadata": {},
   "outputs": [
    {
     "data": {
      "text/plain": [
       "Entity                   object\n",
       "alternative name         object\n",
       "story                    object\n",
       "YEAR                     object\n",
       "records lost             object\n",
       "ORGANISATION             object\n",
       "METHOD OF LEAK           object\n",
       "interesting story        object\n",
       "NO OF RECORDS STOLEN     object\n",
       "DATA SENSITIVITY         object\n",
       "UNUSED                  float64\n",
       "UNUSED.1                float64\n",
       "Exclude                  object\n",
       "Unnamed: 13              object\n",
       "1st source link          object\n",
       "2nd source link          object\n",
       "3rd source               object\n",
       "source name              object\n",
       "dtype: object"
      ]
     },
     "execution_count": 9,
     "metadata": {},
     "output_type": "execute_result"
    }
   ],
   "source": [
    "#checking datatypes\n",
    "db_data_2017.dtypes"
   ]
  },
  {
   "cell_type": "code",
   "execution_count": 10,
   "metadata": {
    "collapsed": true
   },
   "outputs": [],
   "source": [
    " #selecting only required columns from data frames and renaming those columns\n",
    "db_data_2017 = db_data_2017[['Entity','YEAR','records lost','ORGANISATION','METHOD OF LEAK','NO OF RECORDS STOLEN','DATA SENSITIVITY']]\n",
    "db_data_2017.columns = ['ENTITY','YEAR','RECORDS LOST','ORGANISATION','METHOD OF LEAK','NO OF RECORDS STOLEN','DATA SENSITIVITY']"
   ]
  },
  {
   "cell_type": "code",
   "execution_count": 11,
   "metadata": {},
   "outputs": [
    {
     "data": {
      "text/plain": [
       "ENTITY                  object\n",
       "YEAR                    object\n",
       "RECORDS LOST            object\n",
       "ORGANISATION            object\n",
       "METHOD OF LEAK          object\n",
       "NO OF RECORDS STOLEN    object\n",
       "DATA SENSITIVITY        object\n",
       "dtype: object"
      ]
     },
     "execution_count": 11,
     "metadata": {},
     "output_type": "execute_result"
    }
   ],
   "source": [
    "#checking datatypes\n",
    "db_data_2017.dtypes"
   ]
  },
  {
   "cell_type": "code",
   "execution_count": 12,
   "metadata": {},
   "outputs": [
    {
     "data": {
      "text/html": [
       "<div>\n",
       "<style>\n",
       "    .dataframe thead tr:only-child th {\n",
       "        text-align: right;\n",
       "    }\n",
       "\n",
       "    .dataframe thead th {\n",
       "        text-align: left;\n",
       "    }\n",
       "\n",
       "    .dataframe tbody tr th {\n",
       "        vertical-align: top;\n",
       "    }\n",
       "</style>\n",
       "<table border=\"1\" class=\"dataframe\">\n",
       "  <thead>\n",
       "    <tr style=\"text-align: right;\">\n",
       "      <th></th>\n",
       "      <th>ENTITY</th>\n",
       "      <th>YEAR</th>\n",
       "      <th>RECORDS LOST</th>\n",
       "      <th>ORGANISATION</th>\n",
       "      <th>METHOD OF LEAK</th>\n",
       "      <th>NO OF RECORDS STOLEN</th>\n",
       "      <th>DATA SENSITIVITY</th>\n",
       "    </tr>\n",
       "  </thead>\n",
       "  <tbody>\n",
       "    <tr>\n",
       "      <th>1</th>\n",
       "      <td>AOL</td>\n",
       "      <td>0</td>\n",
       "      <td>92000000</td>\n",
       "      <td>web</td>\n",
       "      <td>inside job</td>\n",
       "      <td>92000000</td>\n",
       "      <td>1</td>\n",
       "    </tr>\n",
       "    <tr>\n",
       "      <th>2</th>\n",
       "      <td>Automatic Data Processing</td>\n",
       "      <td>1</td>\n",
       "      <td>125000</td>\n",
       "      <td>financial</td>\n",
       "      <td>poor security</td>\n",
       "      <td>130000</td>\n",
       "      <td>20</td>\n",
       "    </tr>\n",
       "    <tr>\n",
       "      <th>3</th>\n",
       "      <td>Ameritrade Inc.</td>\n",
       "      <td>1</td>\n",
       "      <td>200000</td>\n",
       "      <td>financial</td>\n",
       "      <td>lost / stolen device</td>\n",
       "      <td>200000</td>\n",
       "      <td>20</td>\n",
       "    </tr>\n",
       "    <tr>\n",
       "      <th>4</th>\n",
       "      <td>Citigroup</td>\n",
       "      <td>1</td>\n",
       "      <td>3900000</td>\n",
       "      <td>financial</td>\n",
       "      <td>lost / stolen device</td>\n",
       "      <td>3900000</td>\n",
       "      <td>300</td>\n",
       "    </tr>\n",
       "    <tr>\n",
       "      <th>5</th>\n",
       "      <td>Cardsystems Solutions Inc.</td>\n",
       "      <td>1</td>\n",
       "      <td>40000000</td>\n",
       "      <td>financial</td>\n",
       "      <td>hacked</td>\n",
       "      <td>40000000</td>\n",
       "      <td>300</td>\n",
       "    </tr>\n",
       "  </tbody>\n",
       "</table>\n",
       "</div>"
      ],
      "text/plain": [
       "                        ENTITY YEAR RECORDS LOST ORGANISATION  \\\n",
       "1                          AOL    0     92000000          web   \n",
       "2    Automatic Data Processing    1       125000    financial   \n",
       "3              Ameritrade Inc.    1       200000    financial   \n",
       "4                    Citigroup    1      3900000    financial   \n",
       "5  Cardsystems Solutions Inc.     1     40000000    financial   \n",
       "\n",
       "         METHOD OF LEAK NO OF RECORDS STOLEN DATA SENSITIVITY  \n",
       "1            inside job             92000000                1  \n",
       "2         poor security               130000               20  \n",
       "3  lost / stolen device               200000               20  \n",
       "4  lost / stolen device              3900000              300  \n",
       "5                hacked             40000000              300  "
      ]
     },
     "execution_count": 12,
     "metadata": {},
     "output_type": "execute_result"
    }
   ],
   "source": [
    "db_data_2017.head()"
   ]
  },
  {
   "cell_type": "code",
   "execution_count": 13,
   "metadata": {},
   "outputs": [
    {
     "data": {
      "text/html": [
       "<div>\n",
       "<style>\n",
       "    .dataframe thead tr:only-child th {\n",
       "        text-align: right;\n",
       "    }\n",
       "\n",
       "    .dataframe thead th {\n",
       "        text-align: left;\n",
       "    }\n",
       "\n",
       "    .dataframe tbody tr th {\n",
       "        vertical-align: top;\n",
       "    }\n",
       "</style>\n",
       "<table border=\"1\" class=\"dataframe\">\n",
       "  <thead>\n",
       "    <tr style=\"text-align: right;\">\n",
       "      <th></th>\n",
       "      <th>ENTITY</th>\n",
       "      <th>YEAR</th>\n",
       "      <th>RECORDS LOST</th>\n",
       "      <th>ORGANISATION</th>\n",
       "      <th>METHOD OF LEAK</th>\n",
       "      <th>NO OF RECORDS STOLEN</th>\n",
       "      <th>DATA SENSITIVITY</th>\n",
       "    </tr>\n",
       "  </thead>\n",
       "  <tbody>\n",
       "    <tr>\n",
       "      <th>249</th>\n",
       "      <td>CEX</td>\n",
       "      <td>14</td>\n",
       "      <td>2000000</td>\n",
       "      <td>retail</td>\n",
       "      <td>accidentally published</td>\n",
       "      <td>2000000</td>\n",
       "      <td>300</td>\n",
       "    </tr>\n",
       "    <tr>\n",
       "      <th>250</th>\n",
       "      <td>Swedish Transport Agency</td>\n",
       "      <td>14</td>\n",
       "      <td>3000000</td>\n",
       "      <td>government</td>\n",
       "      <td>poor security</td>\n",
       "      <td>3000000</td>\n",
       "      <td>50000</td>\n",
       "    </tr>\n",
       "    <tr>\n",
       "      <th>251</th>\n",
       "      <td>Instagram</td>\n",
       "      <td>14</td>\n",
       "      <td>6000000</td>\n",
       "      <td>web</td>\n",
       "      <td>hacked</td>\n",
       "      <td>6000000</td>\n",
       "      <td>1</td>\n",
       "    </tr>\n",
       "    <tr>\n",
       "      <th>252</th>\n",
       "      <td>Equifax</td>\n",
       "      <td>14</td>\n",
       "      <td>143000000</td>\n",
       "      <td>financial</td>\n",
       "      <td>hacked</td>\n",
       "      <td>143000000</td>\n",
       "      <td>50000</td>\n",
       "    </tr>\n",
       "    <tr>\n",
       "      <th>253</th>\n",
       "      <td>Spambot</td>\n",
       "      <td>14</td>\n",
       "      <td>711000000</td>\n",
       "      <td>web</td>\n",
       "      <td>poor security</td>\n",
       "      <td>711000000</td>\n",
       "      <td>4000</td>\n",
       "    </tr>\n",
       "  </tbody>\n",
       "</table>\n",
       "</div>"
      ],
      "text/plain": [
       "                       ENTITY YEAR RECORDS LOST ORGANISATION  \\\n",
       "249                       CEX   14      2000000       retail   \n",
       "250  Swedish Transport Agency   14      3000000   government   \n",
       "251                 Instagram   14      6000000          web   \n",
       "252                   Equifax   14    143000000    financial   \n",
       "253                   Spambot   14    711000000          web   \n",
       "\n",
       "             METHOD OF LEAK NO OF RECORDS STOLEN DATA SENSITIVITY  \n",
       "249  accidentally published              2000000              300  \n",
       "250           poor security              3000000            50000  \n",
       "251                  hacked              6000000                1  \n",
       "252                  hacked            143000000            50000  \n",
       "253           poor security            711000000             4000  "
      ]
     },
     "execution_count": 13,
     "metadata": {},
     "output_type": "execute_result"
    }
   ],
   "source": [
    "db_data_2017.tail()"
   ]
  },
  {
   "cell_type": "code",
   "execution_count": 14,
   "metadata": {
    "collapsed": true
   },
   "outputs": [],
   "source": [
    "#changing YEAR values from the codes\n",
    "db_data_2017.loc[db_data_2017['YEAR'] == '0', 'YEAR'] = 2004\n",
    "db_data_2017.loc[db_data_2017['YEAR'] == '1', 'YEAR'] = 2005\n",
    "db_data_2017.loc[db_data_2017['YEAR'] == '2', 'YEAR'] = 2006\n",
    "db_data_2017.loc[db_data_2017['YEAR'] == '3', 'YEAR'] = 2007\n",
    "db_data_2017.loc[db_data_2017['YEAR'] == '4', 'YEAR'] = 2008\n",
    "db_data_2017.loc[db_data_2017['YEAR'] == '5', 'YEAR'] = 2009\n",
    "db_data_2017.loc[db_data_2017['YEAR'] == '6', 'YEAR'] = 2010\n",
    "db_data_2017.loc[db_data_2017['YEAR'] == '7', 'YEAR'] = 2011\n",
    "db_data_2017.loc[db_data_2017['YEAR'] == '8', 'YEAR'] = 2012\n",
    "db_data_2017.loc[db_data_2017['YEAR'] == '9', 'YEAR'] = 2013\n",
    "db_data_2017.loc[db_data_2017['YEAR'] == '10', 'YEAR'] = 2014\n",
    "db_data_2017.loc[db_data_2017['YEAR'] == '11', 'YEAR'] = 2015\n",
    "db_data_2017.loc[db_data_2017['YEAR'] == '12', 'YEAR'] = 2016\n",
    "db_data_2017.loc[db_data_2017['YEAR'] == '13', 'YEAR'] = 2017\n",
    "db_data_2017.loc[db_data_2017['YEAR'] == '14', 'YEAR'] = 2017"
   ]
  },
  {
   "cell_type": "code",
   "execution_count": 15,
   "metadata": {
    "collapsed": true
   },
   "outputs": [],
   "source": [
    "#changing DATA SENSITIIVITY values from the codes\n",
    "\n",
    "db_data_2017.loc[db_data_2017['DATA SENSITIVITY'] == '1', 'DATA SENSITIVITY'] = 'Just email address/Online information'\n",
    "db_data_2017.loc[db_data_2017['DATA SENSITIVITY'] == '20', 'DATA SENSITIVITY'] = 'SSN/Personal details'\n",
    "db_data_2017.loc[db_data_2017['DATA SENSITIVITY'] == '300', 'DATA SENSITIVITY'] = 'Credit card information'\n",
    "db_data_2017.loc[db_data_2017['DATA SENSITIVITY'] == '4000', 'DATA SENSITIVITY'] = 'Email password/Health records'\n",
    "db_data_2017.loc[db_data_2017['DATA SENSITIVITY'] == '50000', 'DATA SENSITIVITY'] = 'Full bank account details'"
   ]
  },
  {
   "cell_type": "code",
   "execution_count": 16,
   "metadata": {},
   "outputs": [
    {
     "data": {
      "text/html": [
       "<div>\n",
       "<style>\n",
       "    .dataframe thead tr:only-child th {\n",
       "        text-align: right;\n",
       "    }\n",
       "\n",
       "    .dataframe thead th {\n",
       "        text-align: left;\n",
       "    }\n",
       "\n",
       "    .dataframe tbody tr th {\n",
       "        vertical-align: top;\n",
       "    }\n",
       "</style>\n",
       "<table border=\"1\" class=\"dataframe\">\n",
       "  <thead>\n",
       "    <tr style=\"text-align: right;\">\n",
       "      <th></th>\n",
       "      <th>ENTITY</th>\n",
       "      <th>YEAR</th>\n",
       "      <th>RECORDS LOST</th>\n",
       "      <th>ORGANISATION</th>\n",
       "      <th>METHOD OF LEAK</th>\n",
       "      <th>NO OF RECORDS STOLEN</th>\n",
       "      <th>DATA SENSITIVITY</th>\n",
       "    </tr>\n",
       "  </thead>\n",
       "  <tbody>\n",
       "    <tr>\n",
       "      <th>1</th>\n",
       "      <td>AOL</td>\n",
       "      <td>2004</td>\n",
       "      <td>92000000</td>\n",
       "      <td>web</td>\n",
       "      <td>inside job</td>\n",
       "      <td>92000000</td>\n",
       "      <td>Just email address/Online information</td>\n",
       "    </tr>\n",
       "    <tr>\n",
       "      <th>2</th>\n",
       "      <td>Automatic Data Processing</td>\n",
       "      <td>2005</td>\n",
       "      <td>125000</td>\n",
       "      <td>financial</td>\n",
       "      <td>poor security</td>\n",
       "      <td>130000</td>\n",
       "      <td>SSN/Personal details</td>\n",
       "    </tr>\n",
       "    <tr>\n",
       "      <th>3</th>\n",
       "      <td>Ameritrade Inc.</td>\n",
       "      <td>2005</td>\n",
       "      <td>200000</td>\n",
       "      <td>financial</td>\n",
       "      <td>lost / stolen device</td>\n",
       "      <td>200000</td>\n",
       "      <td>SSN/Personal details</td>\n",
       "    </tr>\n",
       "    <tr>\n",
       "      <th>4</th>\n",
       "      <td>Citigroup</td>\n",
       "      <td>2005</td>\n",
       "      <td>3900000</td>\n",
       "      <td>financial</td>\n",
       "      <td>lost / stolen device</td>\n",
       "      <td>3900000</td>\n",
       "      <td>Credit card information</td>\n",
       "    </tr>\n",
       "    <tr>\n",
       "      <th>5</th>\n",
       "      <td>Cardsystems Solutions Inc.</td>\n",
       "      <td>2005</td>\n",
       "      <td>40000000</td>\n",
       "      <td>financial</td>\n",
       "      <td>hacked</td>\n",
       "      <td>40000000</td>\n",
       "      <td>Credit card information</td>\n",
       "    </tr>\n",
       "  </tbody>\n",
       "</table>\n",
       "</div>"
      ],
      "text/plain": [
       "                        ENTITY  YEAR RECORDS LOST ORGANISATION  \\\n",
       "1                          AOL  2004     92000000          web   \n",
       "2    Automatic Data Processing  2005       125000    financial   \n",
       "3              Ameritrade Inc.  2005       200000    financial   \n",
       "4                    Citigroup  2005      3900000    financial   \n",
       "5  Cardsystems Solutions Inc.   2005     40000000    financial   \n",
       "\n",
       "         METHOD OF LEAK NO OF RECORDS STOLEN  \\\n",
       "1            inside job             92000000   \n",
       "2         poor security               130000   \n",
       "3  lost / stolen device               200000   \n",
       "4  lost / stolen device              3900000   \n",
       "5                hacked             40000000   \n",
       "\n",
       "                        DATA SENSITIVITY  \n",
       "1  Just email address/Online information  \n",
       "2                   SSN/Personal details  \n",
       "3                   SSN/Personal details  \n",
       "4                Credit card information  \n",
       "5                Credit card information  "
      ]
     },
     "execution_count": 16,
     "metadata": {},
     "output_type": "execute_result"
    }
   ],
   "source": [
    "db_data_2017.head()"
   ]
  },
  {
   "cell_type": "code",
   "execution_count": 16,
   "metadata": {},
   "outputs": [
    {
     "data": {
      "text/html": [
       "<div>\n",
       "<style>\n",
       "    .dataframe thead tr:only-child th {\n",
       "        text-align: right;\n",
       "    }\n",
       "\n",
       "    .dataframe thead th {\n",
       "        text-align: left;\n",
       "    }\n",
       "\n",
       "    .dataframe tbody tr th {\n",
       "        vertical-align: top;\n",
       "    }\n",
       "</style>\n",
       "<table border=\"1\" class=\"dataframe\">\n",
       "  <thead>\n",
       "    <tr style=\"text-align: right;\">\n",
       "      <th></th>\n",
       "      <th>ENTITY</th>\n",
       "      <th>YEAR</th>\n",
       "      <th>RECORDS LOST</th>\n",
       "      <th>ORGANISATION</th>\n",
       "      <th>METHOD OF LEAK</th>\n",
       "      <th>NO OF RECORDS STOLEN</th>\n",
       "      <th>DATA SENSITIVITY</th>\n",
       "    </tr>\n",
       "  </thead>\n",
       "  <tbody>\n",
       "    <tr>\n",
       "      <th>147</th>\n",
       "      <td>OVH</td>\n",
       "      <td>2013</td>\n",
       "      <td>NaN</td>\n",
       "      <td>web</td>\n",
       "      <td>hacked</td>\n",
       "      <td>500000</td>\n",
       "      <td>SSN/Personal details</td>\n",
       "    </tr>\n",
       "    <tr>\n",
       "      <th>163</th>\n",
       "      <td>UbiSoft</td>\n",
       "      <td>2013</td>\n",
       "      <td>NaN</td>\n",
       "      <td>gaming</td>\n",
       "      <td>hacked</td>\n",
       "      <td>58000000</td>\n",
       "      <td>SSN/Personal details</td>\n",
       "    </tr>\n",
       "  </tbody>\n",
       "</table>\n",
       "</div>"
      ],
      "text/plain": [
       "      ENTITY  YEAR RECORDS LOST ORGANISATION METHOD OF LEAK  \\\n",
       "147      OVH  2013          NaN          web         hacked   \n",
       "163  UbiSoft  2013          NaN       gaming         hacked   \n",
       "\n",
       "    NO OF RECORDS STOLEN      DATA SENSITIVITY  \n",
       "147               500000  SSN/Personal details  \n",
       "163             58000000  SSN/Personal details  "
      ]
     },
     "execution_count": 16,
     "metadata": {},
     "output_type": "execute_result"
    }
   ],
   "source": [
    "#Display rows with null value\n",
    "NullRows = db_data_2017[db_data_2017.isnull().any(axis=1)]\n",
    "NullRows"
   ]
  },
  {
   "cell_type": "code",
   "execution_count": 17,
   "metadata": {
    "collapsed": true
   },
   "outputs": [],
   "source": [
    "#to replace NaN with NULL values for RECORDS LOST column\n",
    "#Fill nullvalue in 'records lost' column with the values from 'NO OF RECORDS STOLEN' column\n",
    "db_data_2017['RECORDS LOST'] = db_data_2017['RECORDS LOST'].fillna(value=db_data_2017['NO OF RECORDS STOLEN'])"
   ]
  },
  {
   "cell_type": "code",
   "execution_count": 18,
   "metadata": {},
   "outputs": [
    {
     "data": {
      "text/html": [
       "<div>\n",
       "<style>\n",
       "    .dataframe thead tr:only-child th {\n",
       "        text-align: right;\n",
       "    }\n",
       "\n",
       "    .dataframe thead th {\n",
       "        text-align: left;\n",
       "    }\n",
       "\n",
       "    .dataframe tbody tr th {\n",
       "        vertical-align: top;\n",
       "    }\n",
       "</style>\n",
       "<table border=\"1\" class=\"dataframe\">\n",
       "  <thead>\n",
       "    <tr style=\"text-align: right;\">\n",
       "      <th></th>\n",
       "      <th>ENTITY</th>\n",
       "      <th>YEAR</th>\n",
       "      <th>RECORDS LOST</th>\n",
       "      <th>ORGANISATION</th>\n",
       "      <th>METHOD OF LEAK</th>\n",
       "      <th>NO OF RECORDS STOLEN</th>\n",
       "      <th>DATA SENSITIVITY</th>\n",
       "    </tr>\n",
       "  </thead>\n",
       "  <tbody>\n",
       "  </tbody>\n",
       "</table>\n",
       "</div>"
      ],
      "text/plain": [
       "Empty DataFrame\n",
       "Columns: [ENTITY, YEAR, RECORDS LOST, ORGANISATION, METHOD OF LEAK, NO OF RECORDS STOLEN, DATA SENSITIVITY]\n",
       "Index: []"
      ]
     },
     "execution_count": 18,
     "metadata": {},
     "output_type": "execute_result"
    }
   ],
   "source": [
    "#Display rows with null value\n",
    "NullRows = db_data_2017[db_data_2017.isnull().any(axis=1)]\n",
    "NullRows"
   ]
  },
  {
   "cell_type": "code",
   "execution_count": 23,
   "metadata": {
    "collapsed": true
   },
   "outputs": [],
   "source": []
  },
  {
   "cell_type": "code",
   "execution_count": 19,
   "metadata": {
    "collapsed": true
   },
   "outputs": [],
   "source": [
    "#Drop 'NO OF RECORDS STOLEN' column\n",
    "del db_data_2017['NO OF RECORDS STOLEN']"
   ]
  },
  {
   "cell_type": "code",
   "execution_count": 20,
   "metadata": {
    "collapsed": true
   },
   "outputs": [],
   "source": [
    "db_data_2017.to_csv('databreach_2017.csv')"
   ]
  },
  {
   "cell_type": "markdown",
   "metadata": {},
   "source": [
    "<b> This dashboard represents a very simplistic view of data breaches over the years in terms of number of records lost.\n",
    "\n",
    "Advantages:  It is very simple to understand for users\n",
    "\n",
    "Disadvantages: It does not show any other parameters to determine how data breaching can be quantified or compared. <b>"
   ]
  },
  {
   "cell_type": "markdown",
   "metadata": {
    "collapsed": true
   },
   "source": [
    "##### First version of visualization:\n",
    "https://public.tableau.com/profile/neha4079#!/vizhome/Viz1_attempt2/Viz1_attempt1 "
   ]
  },
  {
   "cell_type": "markdown",
   "metadata": {},
   "source": [
    "<b> This dashboard represents number of data breaches over the years in terms of average number of records lost.\n",
    "\n",
    "Advantages: It quantifies data breaches as per data sensitivity along with average number of records lost.\n",
    "\n",
    "Disadvantages: Though this dashboard represents sensitivity of data lost along with numbers, it doesnt really give solution of how it can be avoided in future.\n",
    "<b>"
   ]
  },
  {
   "cell_type": "markdown",
   "metadata": {},
   "source": [
    "Second Version of visualization: \n",
    "\n",
    "https://public.tableau.com/profile/neha4079#!/vizhome/Viz1_attempt3/VIz1_attempt2  "
   ]
  },
  {
   "cell_type": "markdown",
   "metadata": {},
   "source": [
    "<b>\n",
    "This dashboard represents number of data breaches over the years in terms of average number of records lost as per entites.\n",
    "\n",
    "Advantages: It shows data breaches analysis in a manner that a user can understand it as per entity, which can help to take actions to avoid it .\n",
    "    \n",
    "Disadvantages: Though this dashboard represents sensitivity of data lost along with numbers, it doesnt really give solution of how it can be avoided in future.\n",
    "<b>"
   ]
  },
  {
   "cell_type": "markdown",
   "metadata": {},
   "source": [
    "Final version of visualization:\n",
    "\n",
    "https://public.tableau.com/profile/neha4079#!/vizhome/LAB2_Viz1_attempt3/Viz1_attempt3 "
   ]
  },
  {
   "cell_type": "markdown",
   "metadata": {},
   "source": [
    "<b>\n",
    "Security breaches are becoming more severe in terms of number of data lost.\n",
    "</b>"
   ]
  },
  {
   "cell_type": "code",
   "execution_count": null,
   "metadata": {
    "collapsed": true
   },
   "outputs": [],
   "source": []
  }
 ],
 "metadata": {
  "kernelspec": {
   "display_name": "Python 2",
   "language": "python",
   "name": "python2"
  },
  "language_info": {
   "codemirror_mode": {
    "name": "ipython",
    "version": 2
   },
   "file_extension": ".py",
   "mimetype": "text/x-python",
   "name": "python",
   "nbconvert_exporter": "python",
   "pygments_lexer": "ipython2",
   "version": "2.7.13"
  }
 },
 "nbformat": 4,
 "nbformat_minor": 2
}
